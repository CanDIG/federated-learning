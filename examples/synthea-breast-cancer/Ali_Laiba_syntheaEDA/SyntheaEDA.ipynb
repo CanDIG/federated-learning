{
 "cells": [
  {
   "cell_type": "markdown",
   "metadata": {},
   "source": [
    "# Synthea/CodeX Data EDA\n",
    "\n",
    "___\n",
    "Names: \n",
    ">Ali Raza Zaidi & Laiba Zaman\n",
    "\n",
    "Dates: \n",
    ">January 13-17, 2022\n",
    "\n",
    "Jira Ticket:\n",
    ">DIG-759\n",
    "\n",
    "Description:\n",
    ">EDA of Synthea Data and Selection of Inputs and Outputs to Classifier"
   ]
  },
  {
   "cell_type": "markdown",
   "metadata": {},
   "source": [
    "### Purpose\n",
    "We will carry out an Exploratory Data Analysis (EDA) of the [Synthea Data](https://confluence.hl7.org/display/COD/mCODE+Test+Data) ingested into a local katsu environment and accessed through a local GraphQL API Service, as explained through the documentation of the [Federated Learning](https://github.com/CanDIG/federated-learning) and [GraphQL-interface](https://github.com/CanDIG/GraphQL-interface) projects.\n",
    "\n",
    "The data processing and EDA work done here has been inspired by the work of [Rishabh Sambare](https://github.com/CanDIG/federated-learning/blob/main/examples/synthea-breast-cancer/EDA.ipynb) with his EDA on the Synthea Data.\n",
    "\n",
    "We will access the data through the local GraphQL API, hosted locally on the 7999 port. The data processing performed in this EDA will come in handy when training our classifier, which will be done in another Jupyter Notebook."
   ]
  },
  {
   "cell_type": "markdown",
   "metadata": {},
   "source": [
    "**Import Statements**: We will need to import several libraries to ensure proper functionality within this EDA, as done below"
   ]
  },
  {
   "cell_type": "code",
   "execution_count": 1,
   "metadata": {},
   "outputs": [],
   "source": [
    "from datetime import datetime # Used for Determining Age at Diagnosis\n",
    "from typing import List, Dict, Optional, Any # Used to define type hints for functions in the EDA\n",
    "import requests # Used to access the API for the data\n",
    "import pandas as pd # Used to cleanup and organize the data\n",
    "import re # Used to scour the collected data for the stage/category\n",
    "import seaborn as sns # Used for data visualization\n",
    "import matplotlib.pyplot as plt # used for data visualization"
   ]
  },
  {
   "cell_type": "markdown",
   "metadata": {},
   "source": [
    "**Here we will initialize the dataset url to prepare our query for use**"
   ]
  },
  {
   "cell_type": "code",
   "execution_count": 2,
   "metadata": {},
   "outputs": [],
   "source": [
    "host = 'http://localhost' \n",
    "dataset_graphql_url = f'{host}:7999/graphql'"
   ]
  },
  {
   "cell_type": "markdown",
   "metadata": {},
   "source": [
    "We will not be accessing the following pieces of information from the data due to various reasons. A sample of the dropped data are below. Note some possible MCode fields (Eg. karyotypic sex) are not included here since the Synthea Data did not include them at all\n",
    "\n",
    "Dropped Data:\n",
    "- All id / alternate id's: \n",
    "    Useless for our purposes\n",
    "- All 'created' and 'updated' data fields: \n",
    "    Useless for our purposes\n",
    "- 'table' alphanumeric code data: \n",
    "    Useless for our purposes\n",
    "- cancer_condition alphanumeric code data: \n",
    "    Useless for our purposes\n",
    "- condition_type: \n",
    "    Useless for our purposes since all were primary\n",
    "- verfication_status: \n",
    "    Useless for our purposes since all were confirmed\n",
    "- clinical_status: \n",
    "    Useless for our purposes since all breast cance cases were active\n",
    "- cancer_procedure code labels: \n",
    "    As Rishabh noted in his EDA Jira Ticket, the data was quite sparse to analyze by \n",
    "    specific procedure type so instead we simply analyzed by # of procedures(surgical or radiation)\n",
    "- cancer_procedures extra properties: \n",
    "    Useless for our purposes since it simply had time of operation\n",
    "- cancer_procedure reason reference alphanumeric code: \n",
    "    Useless for our purposes\n",
    "- genomicsReport: \n",
    "    null data\n",
    "- tnmType: \n",
    "    all of the types were clinical TNM's so useless for our purpose\n",
    "- metastasesCategory:\n",
    "    The data seemed to indicate the wrong group types (N0, N1, N2, etc.) instead of the required M0 & M1 per the [NCBI](https://www.ncbi.nlm.nih.gov/books/NBK553187/#:~:text=T%20%2D%20Tumor.&text=For%20example%2C%20T1%20indicates%20invasion,an%20invasion%20into%20the%20subserosa.) so these categories were dropped"
   ]
  },
  {
   "cell_type": "markdown",
   "metadata": {},
   "source": [
    "**Here we will generate the GraphQL Query with all of the data we need to collect**"
   ]
  },
  {
   "cell_type": "code",
   "execution_count": 3,
   "metadata": {},
   "outputs": [],
   "source": [
    "query = '''\n",
    "query{\n",
    "  katsuDataModels\n",
    "  {\n",
    "    mcodeDataModels\n",
    "    {\n",
    "      mcodePackets{\n",
    "        subject {\n",
    "          dateOfBirth\n",
    "          sex\n",
    "        }\n",
    "        cancerCondition {\n",
    "          dateOfDiagnosis\n",
    "          tnmStaging{\n",
    "            stageGroup {\n",
    "              dataValue {\n",
    "                label\n",
    "              }\n",
    "            }\n",
    "            primaryTumorCategory{\n",
    "              dataValue{\n",
    "                label\n",
    "              }\n",
    "            }\n",
    "            regionalNodesCategory{\n",
    "              dataValue{\n",
    "                label\n",
    "              }\n",
    "            }\n",
    "          }\n",
    "          code{\n",
    "            label\n",
    "          }\n",
    "        }\n",
    "        cancerRelatedProcedures {\n",
    "          procedureType\n",
    "        }\n",
    "        cancerDiseaseStatus {\n",
    "          label\n",
    "        }\n",
    "        medicationStatement {\n",
    "          medicationCode {\n",
    "            label\n",
    "          }\n",
    "        }\n",
    "      }\n",
    "    }\n",
    "  }\n",
    "}\n",
    "'''"
   ]
  },
  {
   "cell_type": "markdown",
   "metadata": {},
   "source": [
    "**Here we will execute the query and check to see if it went through (A 200 Status Code indicates success)**"
   ]
  },
  {
   "cell_type": "code",
   "execution_count": 4,
   "metadata": {},
   "outputs": [
    {
     "data": {
      "text/plain": [
       "200"
      ]
     },
     "execution_count": 4,
     "metadata": {},
     "output_type": "execute_result"
    }
   ],
   "source": [
    "data_json = requests.post(dataset_graphql_url, json={'query': query})\n",
    "data_json.status_code"
   ]
  },
  {
   "cell_type": "markdown",
   "metadata": {},
   "source": [
    "**Here we will define a dictionary from the collected JSON Data that houses the data for each of the patients**"
   ]
  },
  {
   "cell_type": "code",
   "execution_count": 5,
   "metadata": {},
   "outputs": [],
   "source": [
    "patient_info_json = data_json.json().get('data').get('katsuDataModels').get('mcodeDataModels').get('mcodePackets')"
   ]
  },
  {
   "cell_type": "markdown",
   "metadata": {},
   "source": [
    "**Here we define several placeholder values that we will use in the parsing process so that we don't have any errors**"
   ]
  },
  {
   "cell_type": "code",
   "execution_count": 6,
   "metadata": {},
   "outputs": [],
   "source": [
    "default_label = {'label': None}\n",
    "default_group = {'dataValue': default_label}\n",
    "default_staging = [{'stageGroup': default_group, 'primaryTumorCategory': default_group, \n",
    "                    'regionalNodesCategory': default_group}]\n",
    "default_cancer_condition = [{'tnmStaging': default_staging, \"dateOfDiagnosis\": None, 'code': default_label}]\n",
    "default_subject = {\"date_of_birth\": None, \"sex\": None}\n",
    "default_procedures = []\n",
    "default_meds = []"
   ]
  },
  {
   "cell_type": "code",
   "execution_count": 7,
   "metadata": {},
   "outputs": [
    {
     "data": {
      "text/plain": [
       "{'subject': {'dateOfBirth': '1970-03-21', 'sex': 'FEMALE'},\n",
       " 'cancerCondition': [{'dateOfDiagnosis': '2020-03-08T22:34:14Z',\n",
       "   'tnmStaging': [{'stageGroup': {'dataValue': {'label': 'Stage 2 (qualifier value)'}},\n",
       "     'primaryTumorCategory': {'dataValue': {'label': 'T3 category (finding)'}},\n",
       "     'regionalNodesCategory': {'dataValue': {'label': 'N0 category (finding)'}}},\n",
       "    {'stageGroup': {'dataValue': {'label': 'Stage 2B (qualifier value)'}},\n",
       "     'primaryTumorCategory': {'dataValue': {'label': 'T3 category (finding)'}},\n",
       "     'regionalNodesCategory': {'dataValue': {'label': 'N0 category (finding)'}}}],\n",
       "   'code': {'label': 'Malignant neoplasm of breast (disorder)'}}],\n",
       " 'cancerRelatedProcedures': [{'procedureType': 'surgical'}],\n",
       " 'cancerDiseaseStatus': None,\n",
       " 'medicationStatement': [{'medicationCode': {'label': 'DOXOrubicin hydrochloride 20 MG per 10 ML Injection'}}]}"
      ]
     },
     "execution_count": 7,
     "metadata": {},
     "output_type": "execute_result"
    }
   ],
   "source": [
    "patient_info_json[1] # Example Data"
   ]
  },
  {
   "cell_type": "markdown",
   "metadata": {},
   "source": [
    "**Here we define several functions and values that will be used in the parsing process**"
   ]
  },
  {
   "cell_type": "code",
   "execution_count": 8,
   "metadata": {},
   "outputs": [],
   "source": [
    "'''\n",
    "    get_uniq_procedures(): returns a List of strings containing the unique procedure types within the collected data\n",
    "'''\n",
    "def get_uniq_procedures() -> List[str]:\n",
    "    procedures = []\n",
    "    for patient in patient_info_json:\n",
    "        procedures.extend([procedure.get('procedureType') for procedure in patient.get('cancerRelatedProcedures', default_procedures)])\n",
    "        \n",
    "    return list(set(procedures))\n",
    "\n",
    "'''\n",
    "    get_uniq_meds(): returns a List of strings containing the unique medication types within the collected data\n",
    "'''\n",
    "def get_uniq_meds() -> List[str]:\n",
    "    meds = []\n",
    "    for patient in patient_info_json:\n",
    "        meds.extend([med.get('medicationCode').get('label') for med in patient.get('medicationStatement', default_meds)])\n",
    "        \n",
    "    return list(set(meds))\n",
    "\n",
    "'''\n",
    "    meds_wrapper(meds): Passed in an Optional List of Dictionaries, the function returns a Dictionary with string keys and int\n",
    "        values that display the unique medications as keys and display the number of times the specified patient takes the given\n",
    "        medication as its value\n",
    "'''\n",
    "def meds_wrapper(meds: Optional[List[Dict[str, Any]]]) -> Dict[str, int]:\n",
    "    meds_dict = dict.fromkeys(uniq_meds, 0)\n",
    "    for med in meds:\n",
    "        meds_dict[med.get('medicationCode').get('label')] += 1\n",
    "    \n",
    "    return meds_dict\n",
    "\n",
    "'''\n",
    "    procedure_Wrapper(procedures): Passed in an Optional List of Dictionaries, the function returns a Dictionary of string keys \n",
    "        and int values where the keys represent the different procedure types and the values represent the number of times that\n",
    "        procedure was performed on the specified patient\n",
    "'''\n",
    "def procedure_wrapper(procedures: Optional[List[Dict[str, Any]]]) -> Dict[str, int]:\n",
    "    procedures_dict = dict.fromkeys(uniq_procedures, 0)\n",
    "    for procedure in procedures:\n",
    "        procedures_dict[procedure.get('procedureType')] += 1\n",
    "    \n",
    "    return procedures_dict\n",
    "\n",
    "''' sex_wrapper(sex): Passed in an Optional string, this function returns an Optional integer with 1 for a female sex specified \n",
    "        and 0 otherwise\n",
    "'''\n",
    "def sex_wrapper(sex: Optional[str]) -> Optional[int]: \n",
    "    if sex is not None: \n",
    "        if sex == 'FEMALE': return 1\n",
    "        return 0\n",
    "    return None\n",
    "\n",
    "'''\n",
    "    age_wrapper(age, diag): Passed in two Optional strings, age and diag related to the date of birth and date of diagnosis of\n",
    "        the patient respectively, and returns an optional integer specifying the number of days between the date of diagnosis\n",
    "        and the date of birth of the patient\n",
    "'''\n",
    "def age_wrapper(age: Optional[str], diag: Optional[str])-> Optional[int]:\n",
    "    if age is not None and diag is not None: return get_age(age, diag)\n",
    "    return None\n",
    "\n",
    "''' \n",
    "    get_age(age, diag): Passed in two strings, age and diag corresponding do the date of birth and date of diagnosis of the\n",
    "        patient, respectively, and returns an integer specifying the number of days between the two events\n",
    "'''\n",
    "def get_age(age: str, diag: str) -> int:\n",
    "    date_of_birth = datetime.strptime(age, \"%Y-%m-%d\")\n",
    "    date_of_diagnosis = datetime.strptime(diag, \"%Y-%m-%dT%H:%M:%SZ\")\n",
    "    diff = date_of_diagnosis - date_of_birth\n",
    "    return diff.days\n",
    "\n",
    "'''\n",
    "    status_wrapper(cancer_status): Passed in an optional string, this function returns an optional integer where 1 represents\n",
    "        an improvement in patient health and 0 represents a decline in patient health\n",
    "'''\n",
    "def status_wrapper(cancer_status: Optional[str]) -> Optional[int]:\n",
    "    if cancer_status is not None: return get_status(cancer_status.get('label'))\n",
    "    return None\n",
    "\n",
    "'''\n",
    "    get_status(cancer_status): Passed in a string, this function returns an integer value representing either an improvement or\n",
    "        decline in the patient's health\n",
    "'''\n",
    "def get_status(cancer_status: str) -> int:\n",
    "    if cancer_status == \"Patient's condition improved\": return 1\n",
    "    return 0\n",
    "\n",
    "'''\n",
    "    stage_wrapper(cancer_stagings): Passed in an Optional List of Dictionaries, this function returns a Dictionary with string\n",
    "        keys and integer values which represent the stage of the cancer/tumour/nodes/metastases\n",
    "'''\n",
    "def stage_wrapper(cancer_stagings: Optional[List[Dict[str, Any]]]) -> Dict[str, int]:\n",
    "    if cancer_stagings is not None: \n",
    "        stage = get_stage(\n",
    "            cancer_stagings[0].get('stageGroup', default_group).get('dataValue', default_label).get('label', None))\n",
    "        primary = get_primary(\n",
    "            cancer_stagings[0].get('primaryTumorCategory', default_group).get('dataValue', default_label).get('label', None))\n",
    "        nodes = get_nodes(\n",
    "            cancer_stagings[0].get('regionalNodesCategory', default_group).get('dataValue', default_label).get('label', None))\n",
    "        return {'stage': stage, 'primary': primary, 'nodes': nodes}\n",
    "    return {'stage': None, 'primary': None, 'nodes': None}\n",
    "\n",
    "'''\n",
    "    get_stage(given_stage): Passed in a str, this function returns the stage of cancer the patient is in\n",
    "'''\n",
    "def get_stage(given_stage: str) -> Optional[int]:\n",
    "    if re.search(r'[sS]tage 1', given_stage): return 1\n",
    "    if re.search(r'[sS]tage 2', given_stage): return 2\n",
    "    if re.search(r'[sS]tage 3', given_stage): return 3\n",
    "    if re.search(r'[sS]tage 4', given_stage): return 4\n",
    "    return None\n",
    "\n",
    "'''\n",
    "    get_primary(given_stage): Passed in a str, this function returns the stage of primary tumours the patient has\n",
    "'''\n",
    "def get_primary(given_stage: str) -> Optional[int]:\n",
    "    if 'T0' in given_stage: return 0\n",
    "    if 'T1' in given_stage: return 1\n",
    "    if 'T2' in given_stage: return 2\n",
    "    if 'T3' in given_stage: return 3\n",
    "    if 'T4' in given_stage: return 4\n",
    "    return None\n",
    "\n",
    "'''\n",
    "    get_nodes(given_stage): Passed in a str, this function returns the stage of the regional nodes\n",
    "'''\n",
    "def get_nodes(given_stage: str) -> Optional[int]:\n",
    "    if 'N0' in given_stage: return 0\n",
    "    if 'N1' in given_stage: return 1\n",
    "    if 'N2' in given_stage: return 2\n",
    "    if 'N3' in given_stage: return 3\n",
    "    return None\n",
    "\n",
    "'''\n",
    "    Defining the unique medications and procedure types\n",
    "'''\n",
    "uniq_procedures = get_uniq_procedures()\n",
    "uniq_meds = get_uniq_meds()"
   ]
  },
  {
   "cell_type": "markdown",
   "metadata": {},
   "source": [
    "**Here we take the data from the json and parse it into the formats that we want our input data to have**"
   ]
  },
  {
   "cell_type": "code",
   "execution_count": 9,
   "metadata": {},
   "outputs": [],
   "source": [
    "patient_info_list = []\n",
    "for patient in patient_info_json:\n",
    "    patient_info_dict = {}\n",
    "    cancer_status = status_wrapper(patient.get('cancerDiseaseStatus', default_label))\n",
    "    date_of_birth = patient.get('subject', default_subject).get('dateOfBirth')\n",
    "    date_of_diagnosis = patient.get('cancerCondition', default_cancer_condition)[0].get('dateOfDiagnosis')\n",
    "    diagnosis_age = age_wrapper(date_of_birth, date_of_diagnosis)\n",
    "    sex = sex_wrapper(patient.get('subject', default_subject).get('sex'))\n",
    "    stages = stage_wrapper(patient.get('cancerCondition', default_cancer_condition)[0].get('tnmStaging'))\n",
    "    cancer_type = patient.get('cancerCondition', default_cancer_condition)[0].get('code', default_label).get('label', None)\n",
    "    procedures = procedure_wrapper(patient.get('cancerRelatedProcedures', default_procedures))\n",
    "    \n",
    "    for procedure in uniq_procedures:\n",
    "        patient_info_dict[procedure] = procedures[procedure]\n",
    "    \n",
    "    meds = meds_wrapper(patient.get('medicationStatement', default_meds))\n",
    "    number_of_meds = sum([quantity for (medicine, quantity) in meds.items()])\n",
    "    \n",
    "    patient_info_dict['cancerStatus'] = cancer_status\n",
    "    patient_info_dict['diagnosisAge'] = diagnosis_age / 365.25\n",
    "    patient_info_dict['sex'] = sex\n",
    "    patient_info_dict['stage'] = stages['stage']\n",
    "    patient_info_dict['primary'] = stages['primary']\n",
    "    patient_info_dict['nodes'] = stages['nodes']\n",
    "    patient_info_dict['numberOfMeds'] = number_of_meds\n",
    "    patient_info_dict['cancerType'] = cancer_type\n",
    "    patient_info_list.append(patient_info_dict)"
   ]
  },
  {
   "cell_type": "markdown",
   "metadata": {},
   "source": [
    "**Here we create our DataFrame and remove rows with null values, male cases or non-breast cancer cases**"
   ]
  },
  {
   "cell_type": "code",
   "execution_count": 10,
   "metadata": {},
   "outputs": [],
   "source": [
    "pd.set_option('display.max_columns', None)\n",
    "\n",
    "df = pd.DataFrame(patient_info_list)\n",
    "df = df.dropna(subset=['numberOfMeds', 'nodes', 'primary', 'stage', 'sex', 'diagnosisAge', 'cancerStatus'])\n",
    "df = df.loc[df['sex'] != 0]\n",
    "df = df.loc[df['cancerType'] == 'Malignant neoplasm of breast (disorder)']\n",
    "df = df.drop(columns=['cancerType', 'sex'])\n",
    "df = df.reset_index(drop=True)"
   ]
  },
  {
   "cell_type": "markdown",
   "metadata": {},
   "source": [
    "**Viewing the DataFrame**"
   ]
  },
  {
   "cell_type": "code",
   "execution_count": 11,
   "metadata": {},
   "outputs": [
    {
     "data": {
      "text/html": [
       "<div>\n",
       "<style scoped>\n",
       "    .dataframe tbody tr th:only-of-type {\n",
       "        vertical-align: middle;\n",
       "    }\n",
       "\n",
       "    .dataframe tbody tr th {\n",
       "        vertical-align: top;\n",
       "    }\n",
       "\n",
       "    .dataframe thead th {\n",
       "        text-align: right;\n",
       "    }\n",
       "</style>\n",
       "<table border=\"1\" class=\"dataframe\">\n",
       "  <thead>\n",
       "    <tr style=\"text-align: right;\">\n",
       "      <th></th>\n",
       "      <th>radiation</th>\n",
       "      <th>surgical</th>\n",
       "      <th>cancerStatus</th>\n",
       "      <th>diagnosisAge</th>\n",
       "      <th>stage</th>\n",
       "      <th>primary</th>\n",
       "      <th>nodes</th>\n",
       "      <th>numberOfMeds</th>\n",
       "    </tr>\n",
       "  </thead>\n",
       "  <tbody>\n",
       "    <tr>\n",
       "      <th>0</th>\n",
       "      <td>0</td>\n",
       "      <td>1</td>\n",
       "      <td>1.0</td>\n",
       "      <td>54.962355</td>\n",
       "      <td>1.0</td>\n",
       "      <td>1.0</td>\n",
       "      <td>0.0</td>\n",
       "      <td>10</td>\n",
       "    </tr>\n",
       "    <tr>\n",
       "      <th>1</th>\n",
       "      <td>0</td>\n",
       "      <td>2</td>\n",
       "      <td>1.0</td>\n",
       "      <td>59.958932</td>\n",
       "      <td>3.0</td>\n",
       "      <td>2.0</td>\n",
       "      <td>2.0</td>\n",
       "      <td>19</td>\n",
       "    </tr>\n",
       "    <tr>\n",
       "      <th>2</th>\n",
       "      <td>34</td>\n",
       "      <td>1</td>\n",
       "      <td>1.0</td>\n",
       "      <td>65.954825</td>\n",
       "      <td>1.0</td>\n",
       "      <td>1.0</td>\n",
       "      <td>0.0</td>\n",
       "      <td>1</td>\n",
       "    </tr>\n",
       "    <tr>\n",
       "      <th>3</th>\n",
       "      <td>34</td>\n",
       "      <td>2</td>\n",
       "      <td>1.0</td>\n",
       "      <td>51.964408</td>\n",
       "      <td>2.0</td>\n",
       "      <td>2.0</td>\n",
       "      <td>1.0</td>\n",
       "      <td>16</td>\n",
       "    </tr>\n",
       "    <tr>\n",
       "      <th>4</th>\n",
       "      <td>34</td>\n",
       "      <td>2</td>\n",
       "      <td>1.0</td>\n",
       "      <td>67.953457</td>\n",
       "      <td>2.0</td>\n",
       "      <td>2.0</td>\n",
       "      <td>1.0</td>\n",
       "      <td>1</td>\n",
       "    </tr>\n",
       "    <tr>\n",
       "      <th>...</th>\n",
       "      <td>...</td>\n",
       "      <td>...</td>\n",
       "      <td>...</td>\n",
       "      <td>...</td>\n",
       "      <td>...</td>\n",
       "      <td>...</td>\n",
       "      <td>...</td>\n",
       "      <td>...</td>\n",
       "    </tr>\n",
       "    <tr>\n",
       "      <th>1395</th>\n",
       "      <td>34</td>\n",
       "      <td>1</td>\n",
       "      <td>1.0</td>\n",
       "      <td>38.973306</td>\n",
       "      <td>1.0</td>\n",
       "      <td>1.0</td>\n",
       "      <td>0.0</td>\n",
       "      <td>3</td>\n",
       "    </tr>\n",
       "    <tr>\n",
       "      <th>1396</th>\n",
       "      <td>34</td>\n",
       "      <td>1</td>\n",
       "      <td>1.0</td>\n",
       "      <td>67.953457</td>\n",
       "      <td>1.0</td>\n",
       "      <td>1.0</td>\n",
       "      <td>0.0</td>\n",
       "      <td>16</td>\n",
       "    </tr>\n",
       "    <tr>\n",
       "      <th>1397</th>\n",
       "      <td>0</td>\n",
       "      <td>1</td>\n",
       "      <td>1.0</td>\n",
       "      <td>64.955510</td>\n",
       "      <td>1.0</td>\n",
       "      <td>1.0</td>\n",
       "      <td>0.0</td>\n",
       "      <td>11</td>\n",
       "    </tr>\n",
       "    <tr>\n",
       "      <th>1398</th>\n",
       "      <td>34</td>\n",
       "      <td>1</td>\n",
       "      <td>1.0</td>\n",
       "      <td>49.965777</td>\n",
       "      <td>2.0</td>\n",
       "      <td>2.0</td>\n",
       "      <td>0.0</td>\n",
       "      <td>16</td>\n",
       "    </tr>\n",
       "    <tr>\n",
       "      <th>1399</th>\n",
       "      <td>2</td>\n",
       "      <td>2</td>\n",
       "      <td>1.0</td>\n",
       "      <td>65.954825</td>\n",
       "      <td>3.0</td>\n",
       "      <td>2.0</td>\n",
       "      <td>2.0</td>\n",
       "      <td>10</td>\n",
       "    </tr>\n",
       "  </tbody>\n",
       "</table>\n",
       "<p>1400 rows × 8 columns</p>\n",
       "</div>"
      ],
      "text/plain": [
       "      radiation  surgical  cancerStatus  diagnosisAge  stage  primary  nodes  \\\n",
       "0             0         1           1.0     54.962355    1.0      1.0    0.0   \n",
       "1             0         2           1.0     59.958932    3.0      2.0    2.0   \n",
       "2            34         1           1.0     65.954825    1.0      1.0    0.0   \n",
       "3            34         2           1.0     51.964408    2.0      2.0    1.0   \n",
       "4            34         2           1.0     67.953457    2.0      2.0    1.0   \n",
       "...         ...       ...           ...           ...    ...      ...    ...   \n",
       "1395         34         1           1.0     38.973306    1.0      1.0    0.0   \n",
       "1396         34         1           1.0     67.953457    1.0      1.0    0.0   \n",
       "1397          0         1           1.0     64.955510    1.0      1.0    0.0   \n",
       "1398         34         1           1.0     49.965777    2.0      2.0    0.0   \n",
       "1399          2         2           1.0     65.954825    3.0      2.0    2.0   \n",
       "\n",
       "      numberOfMeds  \n",
       "0               10  \n",
       "1               19  \n",
       "2                1  \n",
       "3               16  \n",
       "4                1  \n",
       "...            ...  \n",
       "1395             3  \n",
       "1396            16  \n",
       "1397            11  \n",
       "1398            16  \n",
       "1399            10  \n",
       "\n",
       "[1400 rows x 8 columns]"
      ]
     },
     "execution_count": 11,
     "metadata": {},
     "output_type": "execute_result"
    }
   ],
   "source": [
    "df"
   ]
  },
  {
   "cell_type": "markdown",
   "metadata": {},
   "source": [
    "**Here we will create a correlation matrix for each of the fields of the DataFrame to get an idea of which fields are correlated**"
   ]
  },
  {
   "cell_type": "code",
   "execution_count": 12,
   "metadata": {},
   "outputs": [],
   "source": [
    "corr = df.corr()"
   ]
  },
  {
   "cell_type": "markdown",
   "metadata": {},
   "source": [
    "**Viewing the Correlation Matrix**"
   ]
  },
  {
   "cell_type": "code",
   "execution_count": 13,
   "metadata": {},
   "outputs": [
    {
     "data": {
      "text/html": [
       "<div>\n",
       "<style scoped>\n",
       "    .dataframe tbody tr th:only-of-type {\n",
       "        vertical-align: middle;\n",
       "    }\n",
       "\n",
       "    .dataframe tbody tr th {\n",
       "        vertical-align: top;\n",
       "    }\n",
       "\n",
       "    .dataframe thead th {\n",
       "        text-align: right;\n",
       "    }\n",
       "</style>\n",
       "<table border=\"1\" class=\"dataframe\">\n",
       "  <thead>\n",
       "    <tr style=\"text-align: right;\">\n",
       "      <th></th>\n",
       "      <th>radiation</th>\n",
       "      <th>surgical</th>\n",
       "      <th>cancerStatus</th>\n",
       "      <th>diagnosisAge</th>\n",
       "      <th>stage</th>\n",
       "      <th>primary</th>\n",
       "      <th>nodes</th>\n",
       "      <th>numberOfMeds</th>\n",
       "    </tr>\n",
       "  </thead>\n",
       "  <tbody>\n",
       "    <tr>\n",
       "      <th>radiation</th>\n",
       "      <td>1.000000</td>\n",
       "      <td>-0.064435</td>\n",
       "      <td>0.046392</td>\n",
       "      <td>0.055335</td>\n",
       "      <td>-0.117201</td>\n",
       "      <td>-0.090404</td>\n",
       "      <td>-0.105332</td>\n",
       "      <td>-0.522895</td>\n",
       "    </tr>\n",
       "    <tr>\n",
       "      <th>surgical</th>\n",
       "      <td>-0.064435</td>\n",
       "      <td>1.000000</td>\n",
       "      <td>-0.155533</td>\n",
       "      <td>-0.007651</td>\n",
       "      <td>0.643939</td>\n",
       "      <td>0.409380</td>\n",
       "      <td>0.758097</td>\n",
       "      <td>0.327867</td>\n",
       "    </tr>\n",
       "    <tr>\n",
       "      <th>cancerStatus</th>\n",
       "      <td>0.046392</td>\n",
       "      <td>-0.155533</td>\n",
       "      <td>1.000000</td>\n",
       "      <td>0.012378</td>\n",
       "      <td>-0.276155</td>\n",
       "      <td>-0.214418</td>\n",
       "      <td>-0.210710</td>\n",
       "      <td>-0.159637</td>\n",
       "    </tr>\n",
       "    <tr>\n",
       "      <th>diagnosisAge</th>\n",
       "      <td>0.055335</td>\n",
       "      <td>-0.007651</td>\n",
       "      <td>0.012378</td>\n",
       "      <td>1.000000</td>\n",
       "      <td>-0.014631</td>\n",
       "      <td>-0.012677</td>\n",
       "      <td>-0.040946</td>\n",
       "      <td>-0.033861</td>\n",
       "    </tr>\n",
       "    <tr>\n",
       "      <th>stage</th>\n",
       "      <td>-0.117201</td>\n",
       "      <td>0.643939</td>\n",
       "      <td>-0.276155</td>\n",
       "      <td>-0.014631</td>\n",
       "      <td>1.000000</td>\n",
       "      <td>0.778215</td>\n",
       "      <td>0.798279</td>\n",
       "      <td>0.477475</td>\n",
       "    </tr>\n",
       "    <tr>\n",
       "      <th>primary</th>\n",
       "      <td>-0.090404</td>\n",
       "      <td>0.409380</td>\n",
       "      <td>-0.214418</td>\n",
       "      <td>-0.012677</td>\n",
       "      <td>0.778215</td>\n",
       "      <td>1.000000</td>\n",
       "      <td>0.427094</td>\n",
       "      <td>0.326141</td>\n",
       "    </tr>\n",
       "    <tr>\n",
       "      <th>nodes</th>\n",
       "      <td>-0.105332</td>\n",
       "      <td>0.758097</td>\n",
       "      <td>-0.210710</td>\n",
       "      <td>-0.040946</td>\n",
       "      <td>0.798279</td>\n",
       "      <td>0.427094</td>\n",
       "      <td>1.000000</td>\n",
       "      <td>0.466521</td>\n",
       "    </tr>\n",
       "    <tr>\n",
       "      <th>numberOfMeds</th>\n",
       "      <td>-0.522895</td>\n",
       "      <td>0.327867</td>\n",
       "      <td>-0.159637</td>\n",
       "      <td>-0.033861</td>\n",
       "      <td>0.477475</td>\n",
       "      <td>0.326141</td>\n",
       "      <td>0.466521</td>\n",
       "      <td>1.000000</td>\n",
       "    </tr>\n",
       "  </tbody>\n",
       "</table>\n",
       "</div>"
      ],
      "text/plain": [
       "              radiation  surgical  cancerStatus  diagnosisAge     stage  \\\n",
       "radiation      1.000000 -0.064435      0.046392      0.055335 -0.117201   \n",
       "surgical      -0.064435  1.000000     -0.155533     -0.007651  0.643939   \n",
       "cancerStatus   0.046392 -0.155533      1.000000      0.012378 -0.276155   \n",
       "diagnosisAge   0.055335 -0.007651      0.012378      1.000000 -0.014631   \n",
       "stage         -0.117201  0.643939     -0.276155     -0.014631  1.000000   \n",
       "primary       -0.090404  0.409380     -0.214418     -0.012677  0.778215   \n",
       "nodes         -0.105332  0.758097     -0.210710     -0.040946  0.798279   \n",
       "numberOfMeds  -0.522895  0.327867     -0.159637     -0.033861  0.477475   \n",
       "\n",
       "               primary     nodes  numberOfMeds  \n",
       "radiation    -0.090404 -0.105332     -0.522895  \n",
       "surgical      0.409380  0.758097      0.327867  \n",
       "cancerStatus -0.214418 -0.210710     -0.159637  \n",
       "diagnosisAge -0.012677 -0.040946     -0.033861  \n",
       "stage         0.778215  0.798279      0.477475  \n",
       "primary       1.000000  0.427094      0.326141  \n",
       "nodes         0.427094  1.000000      0.466521  \n",
       "numberOfMeds  0.326141  0.466521      1.000000  "
      ]
     },
     "execution_count": 13,
     "metadata": {},
     "output_type": "execute_result"
    }
   ],
   "source": [
    "corr"
   ]
  },
  {
   "cell_type": "markdown",
   "metadata": {},
   "source": [
    "**Here we create a heatmap of the correlation matrix**"
   ]
  },
  {
   "cell_type": "code",
   "execution_count": 14,
   "metadata": {},
   "outputs": [
    {
     "data": {
      "text/plain": [
       "<AxesSubplot:>"
      ]
     },
     "execution_count": 14,
     "metadata": {},
     "output_type": "execute_result"
    },
    {
     "data": {
      "image/png": "[encoded data removed]",
      "text/plain": [
       "<Figure size 432x288 with 2 Axes>"
      ]
     },
     "metadata": {
      "needs_background": "light"
     },
     "output_type": "display_data"
    }
   ],
   "source": [
    "sns.heatmap(corr)"
   ]
  },
  {
   "cell_type": "markdown",
   "metadata": {},
   "source": [
    "We can see that most of the fields don't seem to be correlated with the others, however, the *stage* category does seem to be slightly different, hence why we will try to use this header as the output for our classifier"
   ]
  },
  {
   "cell_type": "markdown",
   "metadata": {},
   "source": [
    "___\n",
    "In the end, we find that a suitable list of inputs for our classifiers can be:\n",
    "- surgical: Number of surgeries performed on the patient\n",
    "    - int between \\[0 .. \\*\\]\n",
    "- radiation: Number of radiation therapy sessions performed on the patient\n",
    "    - int between \\[0 .. \\*\\]\n",
    "- cancerStatus: Whether or not the patient's condition improved\n",
    "    - int between \\[0 .. 1\\]\n",
    "- diagnosisAge: At what age the person was diagnosed with cancer\n",
    "    - float between \\[0.0 .. \\*\\]\n",
    "- primary: The patient's primary tumour category\n",
    "    - int between \\[0 .. 4\\]\n",
    "- nodes: The patient's regional node category\n",
    "    - int between \\[0 .. 3\\]\n",
    "- numberOfMeds: The number of medications given to the patient\n",
    "    - int between \\[0 .. \\*\\]\n",
    "\n",
    "The output we determined to be optimal for our analysis was:\n",
    "- stage: The clinical cancer stage of the patient\n",
    "    - int between \\[0 .. 4\\]\n",
    "\n",
    "Finally, we now decide on what classifier to use on our data. We took a look at several different classifiers, from Support Vector Classifiers (SVC) to Naive Bayesian Classifiers. We ended up choosing our default classifier to be the Decision Tree Classifier, although we were quite interested in the Random Forest, KNN, Support Vector and Naive-Bayesian classifiers as alternative options. We chose to do this because Decision Trees are [easy to interpret, require minimal processing and are robust](https://towardsdatascience.com/decision-tree-classifier-explained-in-real-life-picking-a-vacation-destination-6226b2b60575#:~:text=Even%20though%20Decision%20trees%20is,all%20types%20of%20data%20nicely.)"
   ]
  },
  {
   "cell_type": "markdown",
   "metadata": {},
   "source": [
    "**We now download the collected data into a useable file format for further classification**"
   ]
  },
  {
   "cell_type": "code",
   "execution_count": 15,
   "metadata": {},
   "outputs": [],
   "source": [
    "df.to_csv(path_or_buf='SyntheaEDA.csv', index=False)"
   ]
  }
 ],
 "metadata": {
  "kernelspec": {
   "display_name": "Python 3",
   "language": "python",
   "name": "python3"
  },
  "language_info": {
   "codemirror_mode": {
    "name": "ipython",
    "version": 3
   },
   "file_extension": ".py",
   "mimetype": "text/x-python",
   "name": "python",
   "nbconvert_exporter": "python",
   "pygments_lexer": "ipython3",
   "version": "3.8.10"
  }
 },
 "nbformat": 4,
 "nbformat_minor": 4
}
