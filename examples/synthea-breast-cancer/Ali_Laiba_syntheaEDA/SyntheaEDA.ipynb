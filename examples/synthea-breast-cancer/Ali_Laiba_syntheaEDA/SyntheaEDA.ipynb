{
 "cells": [
  {
   "cell_type": "markdown",
   "metadata": {},
   "source": [
    "# Synthea/CodeX Data EDA\n",
    "\n",
    "___\n",
    "Names: \n",
    ">Ali Raza Zaidi & Laiba Zaman\n",
    "\n",
    "Dates: \n",
    ">January 13-17, 2022\n",
    "\n",
    "Jira Ticket:\n",
    ">DIG-759\n",
    "\n",
    "Description:\n",
    ">EDA of Synthea Data and Selection of Inputs and Outputs to Classifier"
   ]
  },
  {
   "cell_type": "markdown",
   "metadata": {},
   "source": [
    "### Purpose\n",
    "We will carry out an Exploratory Data Analysis (EDA) of the [Synthea Data](https://confluence.hl7.org/display/COD/mCODE+Test+Data) ingested into a local katsu environment and accessed through a local GraphQL API Service, as explained through the documentation of the [Federated Learning](https://github.com/CanDIG/federated-learning) and [GraphQL-interface](https://github.com/CanDIG/GraphQL-interface) projects.\n",
    "\n",
    "The data processing and EDA work done here has been inspired by the work of [Rishabh Sambare](https://github.com/CanDIG/federated-learning/blob/main/examples/synthea-breast-cancer/EDA.ipynb) with his EDA on the Synthea Data.\n",
    "\n",
    "We will access the data through the local GraphQL API, hosted locally on the 7999 port. The data processing performed in this EDA will come in handy when training our classifier, which will be done in another Jupyter Notebook."
   ]
  },
  {
   "cell_type": "markdown",
   "metadata": {},
   "source": [
    "#### Importing Requirements"
   ]
  },
  {
   "cell_type": "code",
   "execution_count": 1,
   "metadata": {},
   "outputs": [],
   "source": [
    "from parsers import PatientInfoParser, UniqueInfoParser # Used to parse information from patients\n",
    "import requests # Used to access the API for the data\n",
    "import pandas as pd # Used to cleanup and organize the data\n",
    "import seaborn as sns # Used for data visualization\n",
    "import matplotlib.pyplot as plt # used for data visualization\n",
    "from defaults import DEFAULT_QUERY # Used to collect query information"
   ]
  },
  {
   "cell_type": "markdown",
   "metadata": {},
   "source": [
    "#### Initializing & Executing Query"
   ]
  },
  {
   "cell_type": "code",
   "execution_count": 2,
   "metadata": {},
   "outputs": [],
   "source": [
    "host = 'http://localhost' \n",
    "dataset_graphql_url = f'{host}:7999/graphql'"
   ]
  },
  {
   "cell_type": "markdown",
   "metadata": {},
   "source": [
    "We will not be accessing the following pieces of information from the data due to various reasons. A sample of the dropped data are below. Note some possible MCode fields (Eg. karyotypic sex) are not included here since the Synthea Data did not include them at all\n",
    "\n",
    "Dropped Data:\n",
    "- All id / alternate id's: \n",
    "    Useless for our purposes\n",
    "- All 'created' and 'updated' data fields: \n",
    "    Useless for our purposes\n",
    "- 'table' alphanumeric code data: \n",
    "    Useless for our purposes\n",
    "- cancer_condition alphanumeric code data: \n",
    "    Useless for our purposes\n",
    "- condition_type: \n",
    "    Useless for our purposes since all were primary\n",
    "- verfication_status: \n",
    "    Useless for our purposes since all were confirmed\n",
    "- clinical_status: \n",
    "    Useless for our purposes since all breast cance cases were active\n",
    "- cancer_procedure code labels: \n",
    "    As Rishabh noted in his EDA Jira Ticket, the data was quite sparse to analyze by \n",
    "    specific procedure type so instead we simply analyzed by # of procedures(surgical or radiation)\n",
    "- cancer_procedures extra properties: \n",
    "    Useless for our purposes since it simply had time of operation\n",
    "- cancer_procedure reason reference alphanumeric code: \n",
    "    Useless for our purposes\n",
    "- genomicsReport: \n",
    "    null data\n",
    "- tnmType: \n",
    "    all of the types were clinical TNM's so useless for our purpose\n",
    "- metastasesCategory:\n",
    "    The data seemed to indicate the wrong group types (N0, N1, N2, etc.) instead of the required M0 & M1 per the [NCBI](https://www.ncbi.nlm.nih.gov/books/NBK553187/#:~:text=T%20%2D%20Tumor.&text=For%20example%2C%20T1%20indicates%20invasion,an%20invasion%20into%20the%20subserosa.) so these categories were dropped"
   ]
  },
  {
   "cell_type": "markdown",
   "metadata": {},
   "source": [
    "The Query with all of the required fields is present in the [defaults file](defaults.py)."
   ]
  },
  {
   "cell_type": "code",
   "execution_count": 3,
   "metadata": {},
   "outputs": [
    {
     "data": {
      "text/plain": [
       "200"
      ]
     },
     "execution_count": 3,
     "metadata": {},
     "output_type": "execute_result"
    }
   ],
   "source": [
    "data_json = requests.post(dataset_graphql_url, json={'query': DEFAULT_QUERY})\n",
    "data_json.status_code"
   ]
  },
  {
   "cell_type": "markdown",
   "metadata": {},
   "source": [
    "#### Collecting Patient Data"
   ]
  },
  {
   "cell_type": "code",
   "execution_count": 4,
   "metadata": {},
   "outputs": [],
   "source": [
    "patient_info_json = data_json.json().get('data').get('katsuDataModels').get('mcodeDataModels').get('mcodePackets')"
   ]
  },
  {
   "cell_type": "code",
   "execution_count": 5,
   "metadata": {},
   "outputs": [
    {
     "data": {
      "text/plain": [
       "{'subject': {'dateOfBirth': '1941-12-25', 'sex': 'FEMALE'},\n",
       " 'cancerCondition': [{'dateOfDiagnosis': '2009-12-08T12:25:14Z',\n",
       "   'tnmStaging': None,\n",
       "   'code': {'label': 'Malignant neoplasm of breast (disorder)'}}],\n",
       " 'cancerRelatedProcedures': [],\n",
       " 'cancerDiseaseStatus': {'label': \"Patient's condition improved\"},\n",
       " 'medicationStatement': []}"
      ]
     },
     "execution_count": 5,
     "metadata": {},
     "output_type": "execute_result"
    }
   ],
   "source": [
    "patient_info_json[1] # Example Data"
   ]
  },
  {
   "cell_type": "markdown",
   "metadata": {},
   "source": [
    "#### Parsing Patient Information"
   ]
  },
  {
   "cell_type": "code",
   "execution_count": 6,
   "metadata": {},
   "outputs": [],
   "source": [
    "'''Defining the unique medications and procedure types'''\n",
    "uniq_finder = UniqueInfoParser(patient_info_json)\n",
    "\n",
    "uniq_meds = uniq_finder.get_uniq_meds()\n",
    "uniq_procedures = uniq_finder.get_uniq_procedures()"
   ]
  },
  {
   "cell_type": "code",
   "execution_count": 7,
   "metadata": {},
   "outputs": [],
   "source": [
    "patient_info_list = []\n",
    "for patient in patient_info_json:\n",
    "    patient_info_dict = {}\n",
    "    patient_info = PatientInfoParser(uniq_meds, uniq_procedures, patient).get_patient_data()\n",
    "    \n",
    "    number_of_meds = sum([quantity for quantity in patient_info.meds.values()])\n",
    "    \n",
    "    for procedure in uniq_procedures:\n",
    "        patient_info_dict[procedure] = patient_info.procedures[procedure]\n",
    "    \n",
    "    patient_info_dict['sex'] = patient_info.sex\n",
    "    patient_info_dict['nodes'] = patient_info.nodes\n",
    "    patient_info_dict['stage'] = patient_info.stage\n",
    "    patient_info_dict['numberOfMeds'] = number_of_meds\n",
    "    patient_info_dict['primary'] = patient_info.primary\n",
    "    patient_info_dict['diagnosisAge'] = patient_info.age\n",
    "    patient_info_dict['cancerType'] = patient_info.cancer_type\n",
    "    patient_info_dict['cancerStatus'] = patient_info.cancer_status\n",
    "    patient_info_list.append(patient_info_dict)"
   ]
  },
  {
   "cell_type": "markdown",
   "metadata": {},
   "source": [
    "#### Cleaning collected data and creating DataFrame"
   ]
  },
  {
   "cell_type": "code",
   "execution_count": 8,
   "metadata": {},
   "outputs": [],
   "source": [
    "pd.set_option('display.max_columns', None)\n",
    "\n",
    "df = pd.DataFrame(patient_info_list)\n",
    "df = df.dropna(subset=['numberOfMeds', 'nodes', 'primary', 'stage', 'sex', 'diagnosisAge', 'cancerStatus'])\n",
    "df = df.loc[df['sex'] != 0]\n",
    "df = df.loc[df['cancerType'] == 'Malignant neoplasm of breast (disorder)']\n",
    "df = df.drop(columns=['cancerType', 'sex'])\n",
    "df = df.reset_index(drop=True)"
   ]
  },
  {
   "cell_type": "code",
   "execution_count": 9,
   "metadata": {},
   "outputs": [
    {
     "data": {
      "text/html": [
       "<div>\n",
       "<style scoped>\n",
       "    .dataframe tbody tr th:only-of-type {\n",
       "        vertical-align: middle;\n",
       "    }\n",
       "\n",
       "    .dataframe tbody tr th {\n",
       "        vertical-align: top;\n",
       "    }\n",
       "\n",
       "    .dataframe thead th {\n",
       "        text-align: right;\n",
       "    }\n",
       "</style>\n",
       "<table border=\"1\" class=\"dataframe\">\n",
       "  <thead>\n",
       "    <tr style=\"text-align: right;\">\n",
       "      <th></th>\n",
       "      <th>surgical</th>\n",
       "      <th>radiation</th>\n",
       "      <th>nodes</th>\n",
       "      <th>stage</th>\n",
       "      <th>numberOfMeds</th>\n",
       "      <th>primary</th>\n",
       "      <th>diagnosisAge</th>\n",
       "      <th>cancerStatus</th>\n",
       "    </tr>\n",
       "  </thead>\n",
       "  <tbody>\n",
       "    <tr>\n",
       "      <th>0</th>\n",
       "      <td>1</td>\n",
       "      <td>34</td>\n",
       "      <td>0.0</td>\n",
       "      <td>1.0</td>\n",
       "      <td>2</td>\n",
       "      <td>1.0</td>\n",
       "      <td>51.967146</td>\n",
       "      <td>1.0</td>\n",
       "    </tr>\n",
       "    <tr>\n",
       "      <th>1</th>\n",
       "      <td>1</td>\n",
       "      <td>0</td>\n",
       "      <td>0.0</td>\n",
       "      <td>2.0</td>\n",
       "      <td>11</td>\n",
       "      <td>2.0</td>\n",
       "      <td>43.972621</td>\n",
       "      <td>1.0</td>\n",
       "    </tr>\n",
       "    <tr>\n",
       "      <th>2</th>\n",
       "      <td>1</td>\n",
       "      <td>34</td>\n",
       "      <td>0.0</td>\n",
       "      <td>2.0</td>\n",
       "      <td>3</td>\n",
       "      <td>2.0</td>\n",
       "      <td>26.981520</td>\n",
       "      <td>1.0</td>\n",
       "    </tr>\n",
       "    <tr>\n",
       "      <th>3</th>\n",
       "      <td>1</td>\n",
       "      <td>34</td>\n",
       "      <td>0.0</td>\n",
       "      <td>1.0</td>\n",
       "      <td>2</td>\n",
       "      <td>1.0</td>\n",
       "      <td>61.957563</td>\n",
       "      <td>1.0</td>\n",
       "    </tr>\n",
       "    <tr>\n",
       "      <th>4</th>\n",
       "      <td>3</td>\n",
       "      <td>0</td>\n",
       "      <td>3.0</td>\n",
       "      <td>4.0</td>\n",
       "      <td>14</td>\n",
       "      <td>4.0</td>\n",
       "      <td>59.961670</td>\n",
       "      <td>1.0</td>\n",
       "    </tr>\n",
       "    <tr>\n",
       "      <th>...</th>\n",
       "      <td>...</td>\n",
       "      <td>...</td>\n",
       "      <td>...</td>\n",
       "      <td>...</td>\n",
       "      <td>...</td>\n",
       "      <td>...</td>\n",
       "      <td>...</td>\n",
       "      <td>...</td>\n",
       "    </tr>\n",
       "    <tr>\n",
       "      <th>1338</th>\n",
       "      <td>2</td>\n",
       "      <td>0</td>\n",
       "      <td>1.0</td>\n",
       "      <td>2.0</td>\n",
       "      <td>10</td>\n",
       "      <td>2.0</td>\n",
       "      <td>4.999316</td>\n",
       "      <td>1.0</td>\n",
       "    </tr>\n",
       "    <tr>\n",
       "      <th>1339</th>\n",
       "      <td>1</td>\n",
       "      <td>0</td>\n",
       "      <td>0.0</td>\n",
       "      <td>2.0</td>\n",
       "      <td>10</td>\n",
       "      <td>3.0</td>\n",
       "      <td>65.954825</td>\n",
       "      <td>1.0</td>\n",
       "    </tr>\n",
       "    <tr>\n",
       "      <th>1340</th>\n",
       "      <td>1</td>\n",
       "      <td>34</td>\n",
       "      <td>0.0</td>\n",
       "      <td>2.0</td>\n",
       "      <td>2</td>\n",
       "      <td>2.0</td>\n",
       "      <td>67.953457</td>\n",
       "      <td>1.0</td>\n",
       "    </tr>\n",
       "    <tr>\n",
       "      <th>1341</th>\n",
       "      <td>1</td>\n",
       "      <td>34</td>\n",
       "      <td>0.0</td>\n",
       "      <td>1.0</td>\n",
       "      <td>16</td>\n",
       "      <td>1.0</td>\n",
       "      <td>62.959617</td>\n",
       "      <td>1.0</td>\n",
       "    </tr>\n",
       "    <tr>\n",
       "      <th>1342</th>\n",
       "      <td>1</td>\n",
       "      <td>34</td>\n",
       "      <td>0.0</td>\n",
       "      <td>1.0</td>\n",
       "      <td>2</td>\n",
       "      <td>1.0</td>\n",
       "      <td>67.953457</td>\n",
       "      <td>1.0</td>\n",
       "    </tr>\n",
       "  </tbody>\n",
       "</table>\n",
       "<p>1343 rows × 8 columns</p>\n",
       "</div>"
      ],
      "text/plain": [
       "      surgical  radiation  nodes  stage  numberOfMeds  primary  diagnosisAge  \\\n",
       "0            1         34    0.0    1.0             2      1.0     51.967146   \n",
       "1            1          0    0.0    2.0            11      2.0     43.972621   \n",
       "2            1         34    0.0    2.0             3      2.0     26.981520   \n",
       "3            1         34    0.0    1.0             2      1.0     61.957563   \n",
       "4            3          0    3.0    4.0            14      4.0     59.961670   \n",
       "...        ...        ...    ...    ...           ...      ...           ...   \n",
       "1338         2          0    1.0    2.0            10      2.0      4.999316   \n",
       "1339         1          0    0.0    2.0            10      3.0     65.954825   \n",
       "1340         1         34    0.0    2.0             2      2.0     67.953457   \n",
       "1341         1         34    0.0    1.0            16      1.0     62.959617   \n",
       "1342         1         34    0.0    1.0             2      1.0     67.953457   \n",
       "\n",
       "      cancerStatus  \n",
       "0              1.0  \n",
       "1              1.0  \n",
       "2              1.0  \n",
       "3              1.0  \n",
       "4              1.0  \n",
       "...            ...  \n",
       "1338           1.0  \n",
       "1339           1.0  \n",
       "1340           1.0  \n",
       "1341           1.0  \n",
       "1342           1.0  \n",
       "\n",
       "[1343 rows x 8 columns]"
      ]
     },
     "execution_count": 9,
     "metadata": {},
     "output_type": "execute_result"
    }
   ],
   "source": [
    "df"
   ]
  },
  {
   "cell_type": "markdown",
   "metadata": {},
   "source": [
    "#### Data Evaluation"
   ]
  },
  {
   "cell_type": "code",
   "execution_count": 10,
   "metadata": {},
   "outputs": [],
   "source": [
    "corr = df.corr()"
   ]
  },
  {
   "cell_type": "code",
   "execution_count": 11,
   "metadata": {},
   "outputs": [
    {
     "data": {
      "text/html": [
       "<div>\n",
       "<style scoped>\n",
       "    .dataframe tbody tr th:only-of-type {\n",
       "        vertical-align: middle;\n",
       "    }\n",
       "\n",
       "    .dataframe tbody tr th {\n",
       "        vertical-align: top;\n",
       "    }\n",
       "\n",
       "    .dataframe thead th {\n",
       "        text-align: right;\n",
       "    }\n",
       "</style>\n",
       "<table border=\"1\" class=\"dataframe\">\n",
       "  <thead>\n",
       "    <tr style=\"text-align: right;\">\n",
       "      <th></th>\n",
       "      <th>surgical</th>\n",
       "      <th>radiation</th>\n",
       "      <th>nodes</th>\n",
       "      <th>stage</th>\n",
       "      <th>numberOfMeds</th>\n",
       "      <th>primary</th>\n",
       "      <th>diagnosisAge</th>\n",
       "      <th>cancerStatus</th>\n",
       "    </tr>\n",
       "  </thead>\n",
       "  <tbody>\n",
       "    <tr>\n",
       "      <th>surgical</th>\n",
       "      <td>1.000000</td>\n",
       "      <td>-0.062704</td>\n",
       "      <td>0.761003</td>\n",
       "      <td>0.647574</td>\n",
       "      <td>0.330907</td>\n",
       "      <td>0.408530</td>\n",
       "      <td>-0.004723</td>\n",
       "      <td>-0.163495</td>\n",
       "    </tr>\n",
       "    <tr>\n",
       "      <th>radiation</th>\n",
       "      <td>-0.062704</td>\n",
       "      <td>1.000000</td>\n",
       "      <td>-0.100313</td>\n",
       "      <td>-0.114890</td>\n",
       "      <td>-0.525931</td>\n",
       "      <td>-0.090874</td>\n",
       "      <td>0.047586</td>\n",
       "      <td>0.046999</td>\n",
       "    </tr>\n",
       "    <tr>\n",
       "      <th>nodes</th>\n",
       "      <td>0.761003</td>\n",
       "      <td>-0.100313</td>\n",
       "      <td>1.000000</td>\n",
       "      <td>0.797116</td>\n",
       "      <td>0.470934</td>\n",
       "      <td>0.432325</td>\n",
       "      <td>-0.035044</td>\n",
       "      <td>-0.205761</td>\n",
       "    </tr>\n",
       "    <tr>\n",
       "      <th>stage</th>\n",
       "      <td>0.647574</td>\n",
       "      <td>-0.114890</td>\n",
       "      <td>0.797116</td>\n",
       "      <td>1.000000</td>\n",
       "      <td>0.486670</td>\n",
       "      <td>0.786066</td>\n",
       "      <td>-0.009954</td>\n",
       "      <td>-0.275022</td>\n",
       "    </tr>\n",
       "    <tr>\n",
       "      <th>numberOfMeds</th>\n",
       "      <td>0.330907</td>\n",
       "      <td>-0.525931</td>\n",
       "      <td>0.470934</td>\n",
       "      <td>0.486670</td>\n",
       "      <td>1.000000</td>\n",
       "      <td>0.337412</td>\n",
       "      <td>-0.025874</td>\n",
       "      <td>-0.163081</td>\n",
       "    </tr>\n",
       "    <tr>\n",
       "      <th>primary</th>\n",
       "      <td>0.408530</td>\n",
       "      <td>-0.090874</td>\n",
       "      <td>0.432325</td>\n",
       "      <td>0.786066</td>\n",
       "      <td>0.337412</td>\n",
       "      <td>1.000000</td>\n",
       "      <td>-0.012183</td>\n",
       "      <td>-0.223592</td>\n",
       "    </tr>\n",
       "    <tr>\n",
       "      <th>diagnosisAge</th>\n",
       "      <td>-0.004723</td>\n",
       "      <td>0.047586</td>\n",
       "      <td>-0.035044</td>\n",
       "      <td>-0.009954</td>\n",
       "      <td>-0.025874</td>\n",
       "      <td>-0.012183</td>\n",
       "      <td>1.000000</td>\n",
       "      <td>0.006377</td>\n",
       "    </tr>\n",
       "    <tr>\n",
       "      <th>cancerStatus</th>\n",
       "      <td>-0.163495</td>\n",
       "      <td>0.046999</td>\n",
       "      <td>-0.205761</td>\n",
       "      <td>-0.275022</td>\n",
       "      <td>-0.163081</td>\n",
       "      <td>-0.223592</td>\n",
       "      <td>0.006377</td>\n",
       "      <td>1.000000</td>\n",
       "    </tr>\n",
       "  </tbody>\n",
       "</table>\n",
       "</div>"
      ],
      "text/plain": [
       "              surgical  radiation     nodes     stage  numberOfMeds   primary  \\\n",
       "surgical      1.000000  -0.062704  0.761003  0.647574      0.330907  0.408530   \n",
       "radiation    -0.062704   1.000000 -0.100313 -0.114890     -0.525931 -0.090874   \n",
       "nodes         0.761003  -0.100313  1.000000  0.797116      0.470934  0.432325   \n",
       "stage         0.647574  -0.114890  0.797116  1.000000      0.486670  0.786066   \n",
       "numberOfMeds  0.330907  -0.525931  0.470934  0.486670      1.000000  0.337412   \n",
       "primary       0.408530  -0.090874  0.432325  0.786066      0.337412  1.000000   \n",
       "diagnosisAge -0.004723   0.047586 -0.035044 -0.009954     -0.025874 -0.012183   \n",
       "cancerStatus -0.163495   0.046999 -0.205761 -0.275022     -0.163081 -0.223592   \n",
       "\n",
       "              diagnosisAge  cancerStatus  \n",
       "surgical         -0.004723     -0.163495  \n",
       "radiation         0.047586      0.046999  \n",
       "nodes            -0.035044     -0.205761  \n",
       "stage            -0.009954     -0.275022  \n",
       "numberOfMeds     -0.025874     -0.163081  \n",
       "primary          -0.012183     -0.223592  \n",
       "diagnosisAge      1.000000      0.006377  \n",
       "cancerStatus      0.006377      1.000000  "
      ]
     },
     "execution_count": 11,
     "metadata": {},
     "output_type": "execute_result"
    }
   ],
   "source": [
    "corr"
   ]
  },
  {
   "cell_type": "code",
   "execution_count": 12,
   "metadata": {},
   "outputs": [
    {
     "data": {
      "text/plain": [
       "<AxesSubplot:>"
      ]
     },
     "execution_count": 12,
     "metadata": {},
     "output_type": "execute_result"
    },
    {
     "data": {
      "image/png": "[encoded data removed]",
      "text/plain": [
       "<Figure size 432x288 with 2 Axes>"
      ]
     },
     "metadata": {
      "needs_background": "light"
     },
     "output_type": "display_data"
    }
   ],
   "source": [
    "sns.heatmap(corr)"
   ]
  },
  {
   "cell_type": "markdown",
   "metadata": {},
   "source": [
    "We can see that most of the fields don't seem to be correlated with the others, however, the *stage* category does seem to be slightly different, hence why we will try to use this header as the output for our classifier"
   ]
  },
  {
   "cell_type": "markdown",
   "metadata": {},
   "source": [
    "___\n",
    "In the end, we find that a suitable list of inputs for our classifiers can be:\n",
    "- surgical: Number of surgeries performed on the patient\n",
    "    - int between \\[0 .. \\*\\]\n",
    "- radiation: Number of radiation therapy sessions performed on the patient\n",
    "    - int between \\[0 .. \\*\\]\n",
    "- cancerStatus: Whether or not the patient's condition improved\n",
    "    - int between \\[0 .. 1\\]\n",
    "- diagnosisAge: At what age the person was diagnosed with cancer\n",
    "    - float between \\[0.0 .. \\*\\]\n",
    "- primary: The patient's primary tumour category\n",
    "    - int between \\[0 .. 4\\]\n",
    "- nodes: The patient's regional node category\n",
    "    - int between \\[0 .. 3\\]\n",
    "- numberOfMeds: The number of medications given to the patient\n",
    "    - int between \\[0 .. \\*\\]\n",
    "\n",
    "The output we determined to be optimal for our analysis was:\n",
    "- stage: The clinical cancer stage of the patient\n",
    "    - int between \\[0 .. 4\\]\n",
    "\n",
    "Finally, we now decide on what classifier to use on our data. We took a look at several different classifiers, from Support Vector Classifiers (SVC) to Naive Bayesian Classifiers. We ended up choosing our default classifier to be the Decision Tree Classifier, although we were quite interested in the Random Forest, KNN, Support Vector and Naive-Bayesian classifiers as alternative options. We chose to do this because Decision Trees are [easy to interpret, require minimal processing and are robust](https://towardsdatascience.com/decision-tree-classifier-explained-in-real-life-picking-a-vacation-destination-6226b2b60575#:~:text=Even%20though%20Decision%20trees%20is,all%20types%20of%20data%20nicely.)"
   ]
  },
  {
   "cell_type": "markdown",
   "metadata": {},
   "source": [
    "#### Data Persistence"
   ]
  },
  {
   "cell_type": "code",
   "execution_count": 13,
   "metadata": {},
   "outputs": [],
   "source": [
    "df.to_csv(path_or_buf='SyntheaEDA.csv', index=False)"
   ]
  }
 ],
 "metadata": {
  "kernelspec": {
   "display_name": "Python 3",
   "language": "python",
   "name": "python3"
  },
  "language_info": {
   "codemirror_mode": {
    "name": "ipython",
    "version": 3
   },
   "file_extension": ".py",
   "mimetype": "text/x-python",
   "name": "python",
   "nbconvert_exporter": "python",
   "pygments_lexer": "ipython3",
   "version": "3.9.6"
  }
 },
 "nbformat": 4,
 "nbformat_minor": 4
}
