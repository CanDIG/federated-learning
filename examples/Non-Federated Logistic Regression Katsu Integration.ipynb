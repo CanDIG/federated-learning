{
 "cells": [
  {
   "cell_type": "markdown",
   "id": "15ad6dc1",
   "metadata": {},
   "source": [
    "# Receiving Data from Katsu and Converting To Training Data\n",
    "This notebook shows the basics of taking mcodepackets from Katsu and converting the returned objects to trainable data for a machine learning algorithm. The notebook assumes that you have a local instance of Katsu running on the default port with the ingested synthetic mohccn-data from the `federated-learning` repository. \n",
    "\n",
    "While we do train a machine learning algorithm with the converted data, it's worth noting that, since there are 16 data points in the returned object (due to the sparsity of currently on-hand synthetic data), our algorithm is effectively useless. This notebook simply illustrates a proof of concept and possible preprocessing workflow for MCODE data."
   ]
  },
  {
   "cell_type": "markdown",
   "id": "09d2a17b",
   "metadata": {},
   "source": [
    "We first use the requests module to call the `/api/mcodepackets` endpoint to receive our data. The returned object stores the results of our query in its `results` key. The synthetic data also has 8 empty entries between indices 12 and 20 (inclusive-exclusive), so we delete those from our `results` list.\n",
    "\n",
    "We show a sample data entry: a JSON object with a partially filled MCODE schema."
   ]
  },
  {
   "cell_type": "code",
   "execution_count": 78,
   "id": "2aaa0efe",
   "metadata": {
    "scrolled": true
   },
   "outputs": [
    {
     "data": {
      "text/plain": [
       "{'id': 'CMH-02-02',\n",
       " 'date_of_death': '2018-12-12',\n",
       " 'created': '2021-09-21T14:40:02.633405Z',\n",
       " 'updated': '2021-09-21T14:40:02.633442Z',\n",
       " 'subject': {'id': 'CMH-02-02',\n",
       "  'date_of_birth': '1981-07-01',\n",
       "  'sex': 'FEMALE',\n",
       "  'karyotypic_sex': 'UNKNOWN_KARYOTYPE',\n",
       "  'created': '2021-09-21T14:40:02.509163Z',\n",
       "  'updated': '2021-09-21T14:40:02.509202Z'},\n",
       " 'table': '377ab4cd-80b1-49c6-bc7a-4fd77db750f7',\n",
       " 'cancer_condition': [{'id': '1012-0',\n",
       "   'condition_type': 'primary',\n",
       "   'code': {'id': 'SNOMED:103329007', 'label': 'Not available'},\n",
       "   'date_of_diagnosis': '2018-03-27T00:00:00Z',\n",
       "   'created': '2021-09-21T14:40:02.515432Z',\n",
       "   'updated': '2021-09-21T14:40:02.515464Z'}],\n",
       " 'cancer_related_procedures': [{'id': '1012-0',\n",
       "   'procedure_type': 'radiation',\n",
       "   'code': {'id': 'SNOMED:103329007', 'label': 'Not available'},\n",
       "   'body_site': {'id': 'SNOMEDCT:91775009',\n",
       "    'label': 'Structure of left shoulder region'},\n",
       "   'created': '2021-09-21T14:40:02.520547Z',\n",
       "   'updated': '2021-09-21T14:40:02.520592Z'},\n",
       "  {'id': '1012-1',\n",
       "   'procedure_type': 'radiation',\n",
       "   'code': {'id': 'SNOMED:103329007', 'label': 'Not available'},\n",
       "   'body_site': {'id': 'SNOMEDCT:818983003', 'label': 'Abdomen'},\n",
       "   'created': '2021-09-21T14:40:02.525671Z',\n",
       "   'updated': '2021-09-21T14:40:02.525710Z'},\n",
       "  {'id': '1012-2',\n",
       "   'procedure_type': 'radiation',\n",
       "   'code': {'id': 'SNOMED:103329007', 'label': 'Not available'},\n",
       "   'body_site': {'id': 'SNOMEDCT:51185008', 'label': 'Thoracic structure'},\n",
       "   'created': '2021-09-21T14:40:02.530020Z',\n",
       "   'updated': '2021-09-21T14:40:02.530059Z'},\n",
       "  {'id': '1012-3',\n",
       "   'procedure_type': 'radiation',\n",
       "   'code': {'id': 'SNOMED:103329007', 'label': 'Not available'},\n",
       "   'body_site': {'id': 'SNOMEDCT:818983003', 'label': 'Abdomen'},\n",
       "   'created': '2021-09-21T14:40:02.535227Z',\n",
       "   'updated': '2021-09-21T14:40:02.535266Z'},\n",
       "  {'id': '1012-4',\n",
       "   'procedure_type': 'radiation',\n",
       "   'code': {'id': 'SNOMED:103329007', 'label': 'Not available'},\n",
       "   'body_site': {'id': 'SNOMEDCT:818983003', 'label': 'Abdomen'},\n",
       "   'created': '2021-09-21T14:40:02.541895Z',\n",
       "   'updated': '2021-09-21T14:40:02.541934Z'},\n",
       "  {'id': '1012-5',\n",
       "   'procedure_type': 'radiation',\n",
       "   'code': {'id': 'SNOMED:103329007', 'label': 'Not available'},\n",
       "   'body_site': {'id': 'SNOMEDCT:818983003', 'label': 'Abdomen'},\n",
       "   'created': '2021-09-21T14:40:02.547374Z',\n",
       "   'updated': '2021-09-21T14:40:02.547414Z'},\n",
       "  {'id': '1012-6',\n",
       "   'procedure_type': 'radiation',\n",
       "   'code': {'id': 'SNOMED:103329007', 'label': 'Not available'},\n",
       "   'body_site': {'id': 'SNOMEDCT:51185008', 'label': 'Thoracic structure'},\n",
       "   'created': '2021-09-21T14:40:02.552580Z',\n",
       "   'updated': '2021-09-21T14:40:02.552619Z'},\n",
       "  {'id': '1012-7',\n",
       "   'procedure_type': 'radiation',\n",
       "   'code': {'id': 'SNOMED:103329007', 'label': 'Not available'},\n",
       "   'body_site': {'id': 'SNOMEDCT:818983003', 'label': 'Abdomen'},\n",
       "   'created': '2021-09-21T14:40:02.558360Z',\n",
       "   'updated': '2021-09-21T14:40:02.558403Z'},\n",
       "  {'id': '1012-8',\n",
       "   'procedure_type': 'radiation',\n",
       "   'code': {'id': 'SNOMED:103329007', 'label': 'Not available'},\n",
       "   'body_site': {'id': 'SNOMEDCT:51185008', 'label': 'Thoracic structure'},\n",
       "   'created': '2021-09-21T14:40:02.569000Z',\n",
       "   'updated': '2021-09-21T14:40:02.569150Z'},\n",
       "  {'id': '1012-9',\n",
       "   'procedure_type': 'radiation',\n",
       "   'code': {'id': 'SNOMED:103329007', 'label': 'Not available'},\n",
       "   'body_site': {'id': 'SNOMEDCT:818983003', 'label': 'Abdomen'},\n",
       "   'created': '2021-09-21T14:40:02.577353Z',\n",
       "   'updated': '2021-09-21T14:40:02.577393Z'}],\n",
       " 'medication_statement': [{'id': '1012-0',\n",
       "   'medication_code': {'id': 'RxNorm:395814003', 'label': 'Oxaliplatin'},\n",
       "   'created': '2021-09-21T14:40:02.582669Z',\n",
       "   'updated': '2021-09-21T14:40:02.582705Z'},\n",
       "  {'id': '1012-1',\n",
       "   'medication_code': {'id': 'RxNorm:386906001', 'label': 'Capecitabine'},\n",
       "   'created': '2021-09-21T14:40:02.588955Z',\n",
       "   'updated': '2021-09-21T14:40:02.588990Z'},\n",
       "  {'id': '1012-2',\n",
       "   'medication_code': {'id': 'RxNorm:387172005', 'label': 'Fluorouracil'},\n",
       "   'created': '2021-09-21T14:40:02.594998Z',\n",
       "   'updated': '2021-09-21T14:40:02.595039Z'},\n",
       "  {'id': '1012-3',\n",
       "   'medication_code': {'id': 'RxNorm:372538008', 'label': 'Irinotecan'},\n",
       "   'created': '2021-09-21T14:40:02.602313Z',\n",
       "   'updated': '2021-09-21T14:40:02.602349Z'},\n",
       "  {'id': '1012-4',\n",
       "   'medication_code': {'id': 'RxNorm:386906001', 'label': 'Capecitabine'},\n",
       "   'created': '2021-09-21T14:40:02.610470Z',\n",
       "   'updated': '2021-09-21T14:40:02.610506Z'}],\n",
       " 'genomics_report': {'id': '',\n",
       "  'code': None,\n",
       "  'performing_organization_name': '',\n",
       "  'issued': None,\n",
       "  'extra_properties': None,\n",
       "  'genetic_variant': None,\n",
       "  'genomic_region_studied': None,\n",
       "  'genetic_specimen': []}}"
      ]
     },
     "execution_count": 78,
     "metadata": {},
     "output_type": "execute_result"
    }
   ],
   "source": [
    "import requests\n",
    "data_raw = requests.get(\"http://localhost:8000/api/mcodepackets\")\n",
    "results_json = data_raw.json()['results']\n",
    "\n",
    "# indices 12:20 are empty entries, so delete them\n",
    "del results_json[12:20]\n",
    "results_json[13] # sample entry"
   ]
  },
  {
   "cell_type": "markdown",
   "id": "b396c2ef",
   "metadata": {},
   "source": [
    "We now move to preprocessing this data for a machine learning algorithm. Since our data is so sparse, we choose very simple indicator variables for training: the sex of the subject, the age at which they were diagnosed, the number of cancer related procedures they had, and the number of medication statements since their diagnosis. If we had a larger magnitude of training data, we may have chosen to discriminate between types of medication or procedures, but we do not do that here. "
   ]
  },
  {
   "cell_type": "code",
   "execution_count": 110,
   "id": "7ae0080f",
   "metadata": {},
   "outputs": [],
   "source": [
    "# handle sex data parsing and date parsing\n",
    "\n",
    "def parse_sex(obj: dict) -> float:\n",
    "    if 'sex' not in obj['subject']:\n",
    "        return 0.5\n",
    "    elif obj['subject']['sex'] == \"FEMALE\":\n",
    "        return 1\n",
    "    else:\n",
    "        return 0\n",
    "\n",
    "import datetime\n",
    "def parse_diagnosis_age(obj: dict) -> float:\n",
    "    \"\"\"\n",
    "    A function that returns the difference (in hours) between the diagnosis date and born date of an MCODE schema.\n",
    "    \n",
    "    Input: A (Katsu returned) JSON object of the MCODE data.\n",
    "    Output: The difference between the diagnosis date and born date.\n",
    "    \"\"\"\n",
    "    diag_date = obj['cancer_condition'][0]['date_of_diagnosis']\n",
    "    diag_age = datetime.datetime(int(diag_date[0:4]), int(diag_date[5:7]), int(diag_date[8:10]))\n",
    "    born_date = obj['subject']['date_of_birth']\n",
    "    born_age = datetime.datetime(int(born_date[0:4]), int(born_date[5:7]), int(born_date[8:10]))\n",
    "    difference = diag_age - born_age\n",
    "    diff_in_hrs = divmod(difference.total_seconds(), 3600)[0] # rounded down\n",
    "    return diff_in_hrs\n",
    "\n",
    "def parse_death_age(obj: dict) -> float:\n",
    "    \"\"\"\n",
    "    A function that returns the difference (in hours) between the diagnosis date and death date of an MCODE schema.\n",
    "    \n",
    "    Input: A (Katsu returned) JSON object of the MCODE data.\n",
    "    Output: The difference between the diagnosis date and death date.\n",
    "    \"\"\"\n",
    "    diag_date = obj['cancer_condition'][0]['date_of_diagnosis']\n",
    "    diag_age = datetime.datetime(int(diag_date[0:4]), int(diag_date[5:7]), int(diag_date[8:10]))\n",
    "    death_date = obj['date_of_death']\n",
    "    death_age = datetime.datetime(int(death_date[0:4]), int(death_date[5:7]), int(death_date[8:10]))\n",
    "    difference = death_age - diag_age\n",
    "    diff_in_hrs = divmod(difference.total_seconds(), 3600)[0] # rounded down\n",
    "    return diff_in_hrs"
   ]
  },
  {
   "cell_type": "markdown",
   "id": "df988f27",
   "metadata": {},
   "source": [
    "We now move to creating our input and output matrices/vectors. This is done by preprocessing the data through a simple driver loop. Pretty printing any of these lists or objects may be done by uncommenting the printer and calling `pp.pprint(<LIST or DICT>)`"
   ]
  },
  {
   "cell_type": "code",
   "execution_count": 111,
   "id": "53285940",
   "metadata": {},
   "outputs": [],
   "source": [
    "# import pprint\n",
    "# pp = pprint.PrettyPrinter(indent=2)\n",
    "X = []\n",
    "y = []\n",
    "for i in range(len(results_json)):\n",
    "    obj = results_json[i]\n",
    "    X.append([\n",
    "        len(obj['cancer_related_procedures']),  \n",
    "        len(obj['medication_statement']),\n",
    "        parse_sex(obj),\n",
    "        parse_diagnosis_age(obj)\n",
    "    ])\n",
    "    y.append(parse_death_age(obj))"
   ]
  },
  {
   "cell_type": "markdown",
   "id": "2ec2d13c",
   "metadata": {},
   "source": [
    "We then split into training and testing, and finally train the model."
   ]
  },
  {
   "cell_type": "code",
   "execution_count": 133,
   "id": "aa375bcd",
   "metadata": {},
   "outputs": [],
   "source": [
    "from sklearn.model_selection import train_test_split\n",
    "X_train, X_test, y_train, y_test = train_test_split(X, y, test_size=0.125, random_state=1729)"
   ]
  },
  {
   "cell_type": "code",
   "execution_count": 144,
   "id": "d7adfeec",
   "metadata": {},
   "outputs": [
    {
     "name": "stdout",
     "output_type": "stream",
     "text": [
      "0.04386881560385292\n"
     ]
    }
   ],
   "source": [
    "from sklearn.linear_model import LinearRegression\n",
    "\n",
    "clf = LinearRegression().fit(X_train, y_train)\n",
    "print(clf.score(X_train, y_train))"
   ]
  },
  {
   "cell_type": "markdown",
   "id": "5dc1f4ea",
   "metadata": {},
   "source": [
    "We have a test set of 3 entries. Our primary metric for accuracy in linear regression is some mean squared error. We log the results below."
   ]
  },
  {
   "cell_type": "code",
   "execution_count": 146,
   "id": "c80993cf",
   "metadata": {},
   "outputs": [
    {
     "name": "stdout",
     "output_type": "stream",
     "text": [
      "369905362.9194\n"
     ]
    }
   ],
   "source": [
    "from sklearn.metrics import mean_squared_error\n",
    "\n",
    "mse = mean_squared_error(y_test, clf.predict(X_test))\n",
    "print(mse)"
   ]
  }
 ],
 "metadata": {
  "kernelspec": {
   "display_name": "Python 3 (ipykernel)",
   "language": "python",
   "name": "python3"
  },
  "language_info": {
   "codemirror_mode": {
    "name": "ipython",
    "version": 3
   },
   "file_extension": ".py",
   "mimetype": "text/x-python",
   "name": "python",
   "nbconvert_exporter": "python",
   "pygments_lexer": "ipython3",
   "version": "3.9.7"
  }
 },
 "nbformat": 4,
 "nbformat_minor": 5
}
